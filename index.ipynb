{
 "cells": [
  {
   "cell_type": "markdown",
   "metadata": {},
   "source": [
    "# Projet analyse de donnée\n",
    "\n",
    "## Préambule : Importation des packages"
   ]
  },
  {
   "cell_type": "code",
   "execution_count": 2,
   "metadata": {},
   "outputs": [],
   "source": [
    "import pandas as pd\n",
    "import matplotlib.pyplot as plt\n",
    "import numpy as np"
   ]
  },
  {
   "cell_type": "markdown",
   "metadata": {},
   "source": [
    "## Dataset"
   ]
  },
  {
   "cell_type": "code",
   "execution_count": 3,
   "metadata": {},
   "outputs": [],
   "source": [
    "df= pd.read_csv(\"../PB/data/COVID-19.csv\")"
   ]
  },
  {
   "cell_type": "code",
   "execution_count": 4,
   "metadata": {},
   "outputs": [
    {
     "data": {
      "text/html": [
       "<div>\n",
       "<style scoped>\n",
       "    .dataframe tbody tr th:only-of-type {\n",
       "        vertical-align: middle;\n",
       "    }\n",
       "\n",
       "    .dataframe tbody tr th {\n",
       "        vertical-align: top;\n",
       "    }\n",
       "\n",
       "    .dataframe thead th {\n",
       "        text-align: right;\n",
       "    }\n",
       "</style>\n",
       "<table border=\"1\" class=\"dataframe\">\n",
       "  <thead>\n",
       "    <tr style=\"text-align: right;\">\n",
       "      <th></th>\n",
       "      <th>Date</th>\n",
       "      <th>Country_Region</th>\n",
       "      <th>Province_State</th>\n",
       "      <th>Difference</th>\n",
       "      <th>Prep_Flow_Runtime</th>\n",
       "      <th>Latest_Date</th>\n",
       "      <th>Case_Type</th>\n",
       "      <th>Cases</th>\n",
       "      <th>Lat</th>\n",
       "      <th>Long</th>\n",
       "    </tr>\n",
       "  </thead>\n",
       "  <tbody>\n",
       "    <tr>\n",
       "      <th>0</th>\n",
       "      <td>3/9/2020</td>\n",
       "      <td>India</td>\n",
       "      <td>NaN</td>\n",
       "      <td>0</td>\n",
       "      <td>3/24/2020 9:39:03 AM</td>\n",
       "      <td>3/23/2020</td>\n",
       "      <td>Deaths</td>\n",
       "      <td>0</td>\n",
       "      <td>21.0</td>\n",
       "      <td>78.0</td>\n",
       "    </tr>\n",
       "    <tr>\n",
       "      <th>1</th>\n",
       "      <td>3/8/2020</td>\n",
       "      <td>India</td>\n",
       "      <td>NaN</td>\n",
       "      <td>0</td>\n",
       "      <td>3/24/2020 9:39:03 AM</td>\n",
       "      <td>3/23/2020</td>\n",
       "      <td>Deaths</td>\n",
       "      <td>0</td>\n",
       "      <td>21.0</td>\n",
       "      <td>78.0</td>\n",
       "    </tr>\n",
       "    <tr>\n",
       "      <th>2</th>\n",
       "      <td>3/7/2020</td>\n",
       "      <td>India</td>\n",
       "      <td>NaN</td>\n",
       "      <td>0</td>\n",
       "      <td>3/24/2020 9:39:03 AM</td>\n",
       "      <td>3/23/2020</td>\n",
       "      <td>Deaths</td>\n",
       "      <td>0</td>\n",
       "      <td>21.0</td>\n",
       "      <td>78.0</td>\n",
       "    </tr>\n",
       "    <tr>\n",
       "      <th>3</th>\n",
       "      <td>3/6/2020</td>\n",
       "      <td>India</td>\n",
       "      <td>NaN</td>\n",
       "      <td>0</td>\n",
       "      <td>3/24/2020 9:39:03 AM</td>\n",
       "      <td>3/23/2020</td>\n",
       "      <td>Deaths</td>\n",
       "      <td>0</td>\n",
       "      <td>21.0</td>\n",
       "      <td>78.0</td>\n",
       "    </tr>\n",
       "    <tr>\n",
       "      <th>4</th>\n",
       "      <td>3/5/2020</td>\n",
       "      <td>India</td>\n",
       "      <td>NaN</td>\n",
       "      <td>0</td>\n",
       "      <td>3/24/2020 9:39:03 AM</td>\n",
       "      <td>3/23/2020</td>\n",
       "      <td>Deaths</td>\n",
       "      <td>0</td>\n",
       "      <td>21.0</td>\n",
       "      <td>78.0</td>\n",
       "    </tr>\n",
       "  </tbody>\n",
       "</table>\n",
       "</div>"
      ],
      "text/plain": [
       "       Date Country_Region Province_State  Difference     Prep_Flow_Runtime  \\\n",
       "0  3/9/2020          India            NaN           0  3/24/2020 9:39:03 AM   \n",
       "1  3/8/2020          India            NaN           0  3/24/2020 9:39:03 AM   \n",
       "2  3/7/2020          India            NaN           0  3/24/2020 9:39:03 AM   \n",
       "3  3/6/2020          India            NaN           0  3/24/2020 9:39:03 AM   \n",
       "4  3/5/2020          India            NaN           0  3/24/2020 9:39:03 AM   \n",
       "\n",
       "  Latest_Date Case_Type  Cases   Lat  Long  \n",
       "0   3/23/2020    Deaths      0  21.0  78.0  \n",
       "1   3/23/2020    Deaths      0  21.0  78.0  \n",
       "2   3/23/2020    Deaths      0  21.0  78.0  \n",
       "3   3/23/2020    Deaths      0  21.0  78.0  \n",
       "4   3/23/2020    Deaths      0  21.0  78.0  "
      ]
     },
     "execution_count": 4,
     "metadata": {},
     "output_type": "execute_result"
    }
   ],
   "source": [
    "df.head()"
   ]
  },
  {
   "cell_type": "code",
   "execution_count": 5,
   "metadata": {},
   "outputs": [
    {
     "name": "stdout",
     "output_type": "stream",
     "text": [
      "<class 'pandas.core.frame.DataFrame'>\n",
      "RangeIndex: 35502 entries, 0 to 35501\n",
      "Data columns (total 10 columns):\n",
      " #   Column             Non-Null Count  Dtype  \n",
      "---  ------             --------------  -----  \n",
      " 0   Date               35502 non-null  object \n",
      " 1   Country_Region     35502 non-null  object \n",
      " 2   Province_State     15616 non-null  object \n",
      " 3   Difference         35502 non-null  int64  \n",
      " 4   Prep_Flow_Runtime  35502 non-null  object \n",
      " 5   Latest_Date        35502 non-null  object \n",
      " 6   Case_Type          35502 non-null  object \n",
      " 7   Cases              35502 non-null  int64  \n",
      " 8   Lat                35136 non-null  float64\n",
      " 9   Long               35136 non-null  float64\n",
      "dtypes: float64(2), int64(2), object(6)\n",
      "memory usage: 2.7+ MB\n"
     ]
    }
   ],
   "source": [
    "df.info()"
   ]
  },
  {
   "cell_type": "code",
   "execution_count": 7,
   "metadata": {},
   "outputs": [
    {
     "data": {
      "text/plain": [
       "<AxesSubplot:>"
      ]
     },
     "execution_count": 7,
     "metadata": {},
     "output_type": "execute_result"
    },
    {
     "data": {
      "image/png": "[encoded data removed]",
      "text/plain": [
       "<Figure size 640x480 with 1 Axes>"
      ]
     },
     "metadata": {},
     "output_type": "display_data"
    }
   ],
   "source": [
    "df[\"Cases\"].head(100).plot(kind=\"bar\")"
   ]
  },
  {
   "cell_type": "code",
   "execution_count": 9,
   "metadata": {},
   "outputs": [
    {
     "name": "stdout",
     "output_type": "stream",
     "text": [
      "|    | Date     | Country_Region   |   Province_State |   Difference | Prep_Flow_Runtime    | Latest_Date   | Case_Type   |   Cases |   Lat |   Long |\n",
      "|---:|:---------|:-----------------|-----------------:|-------------:|:---------------------|:--------------|:------------|--------:|------:|-------:|\n",
      "|  0 | 3/9/2020 | India            |              nan |            0 | 3/24/2020 9:39:03 AM | 3/23/2020     | Deaths      |       0 |    21 |     78 |\n",
      "|  1 | 3/8/2020 | India            |              nan |            0 | 3/24/2020 9:39:03 AM | 3/23/2020     | Deaths      |       0 |    21 |     78 |\n",
      "|  2 | 3/7/2020 | India            |              nan |            0 | 3/24/2020 9:39:03 AM | 3/23/2020     | Deaths      |       0 |    21 |     78 |\n",
      "|  3 | 3/6/2020 | India            |              nan |            0 | 3/24/2020 9:39:03 AM | 3/23/2020     | Deaths      |       0 |    21 |     78 |\n",
      "|  4 | 3/5/2020 | India            |              nan |            0 | 3/24/2020 9:39:03 AM | 3/23/2020     | Deaths      |       0 |    21 |     78 |\n"
     ]
    }
   ],
   "source": [
    "print(df.head().to_markdown())"
   ]
  },
  {
   "cell_type": "code",
   "execution_count": null,
   "metadata": {},
   "outputs": [],
   "source": []
  }
 ],
 "metadata": {
  "kernelspec": {
   "display_name": "Python 3.9.13 ('base')",
   "language": "python",
   "name": "python3"
  },
  "language_info": {
   "codemirror_mode": {
    "name": "ipython",
    "version": 3
   },
   "file_extension": ".py",
   "mimetype": "text/x-python",
   "name": "python",
   "nbconvert_exporter": "python",
   "pygments_lexer": "ipython3",
   "version": "3.9.13"
  },
  "orig_nbformat": 4,
  "vscode": {
   "interpreter": {
    "hash": "dd2f083c7091592f6e910b42e81e3d9326587f6134c1427a9ed8e8691fd16a23"
   }
  }
 },
 "nbformat": 4,
 "nbformat_minor": 2
}
